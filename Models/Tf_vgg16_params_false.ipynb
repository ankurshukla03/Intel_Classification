{
 "cells": [
  {
   "cell_type": "code",
   "execution_count": 1,
   "metadata": {},
   "outputs": [
    {
     "name": "stderr",
     "output_type": "stream",
     "text": [
      "Using TensorFlow backend.\n"
     ]
    }
   ],
   "source": [
    "#Import some packages to use\n",
    "import cv2\n",
    "import numpy as np\n",
    "import pandas as pd\n",
    "\n",
    "import matplotlib.pyplot as plt\n",
    "from matplotlib import ticker\n",
    "import seaborn as sns\n",
    "from keras_applications.vgg16 import VGG16\n",
    "from sklearn.model_selection import train_test_split\n",
    "from keras.utils import np_utils,Sequence\n",
    "from keras import applications\n",
    "from keras.preprocessing.image import ImageDataGenerator\n",
    "from keras.callbacks import LearningRateScheduler,EarlyStopping,ModelCheckpoint\n",
    "%matplotlib inline"
   ]
  },
  {
   "cell_type": "code",
   "execution_count": 2,
   "metadata": {},
   "outputs": [],
   "source": [
    "images_dir = 'original_dataset/'\n",
    "test = 'test_WyRytb0.csv'\n",
    "train_dir = 'train/'\n",
    "test_dir = 'test/'\n",
    "labels = 'train.csv'\n",
    "sample = 'sample_submission.csv'\n",
    "IMG_SIZE = 150\n",
    "batch_size = 4\n",
    "train_split = 0.85"
   ]
  },
  {
   "cell_type": "code",
   "execution_count": 3,
   "metadata": {},
   "outputs": [
    {
     "data": {
      "text/html": [
       "<div>\n",
       "<style scoped>\n",
       "    .dataframe tbody tr th:only-of-type {\n",
       "        vertical-align: middle;\n",
       "    }\n",
       "\n",
       "    .dataframe tbody tr th {\n",
       "        vertical-align: top;\n",
       "    }\n",
       "\n",
       "    .dataframe thead th {\n",
       "        text-align: right;\n",
       "    }\n",
       "</style>\n",
       "<table border=\"1\" class=\"dataframe\">\n",
       "  <thead>\n",
       "    <tr style=\"text-align: right;\">\n",
       "      <th></th>\n",
       "      <th>image_name</th>\n",
       "      <th>label</th>\n",
       "    </tr>\n",
       "  </thead>\n",
       "  <tbody>\n",
       "    <tr>\n",
       "      <th>0</th>\n",
       "      <td>0.jpg</td>\n",
       "      <td>0</td>\n",
       "    </tr>\n",
       "    <tr>\n",
       "      <th>1</th>\n",
       "      <td>1.jpg</td>\n",
       "      <td>4</td>\n",
       "    </tr>\n",
       "    <tr>\n",
       "      <th>2</th>\n",
       "      <td>2.jpg</td>\n",
       "      <td>5</td>\n",
       "    </tr>\n",
       "    <tr>\n",
       "      <th>3</th>\n",
       "      <td>4.jpg</td>\n",
       "      <td>0</td>\n",
       "    </tr>\n",
       "    <tr>\n",
       "      <th>4</th>\n",
       "      <td>7.jpg</td>\n",
       "      <td>4</td>\n",
       "    </tr>\n",
       "  </tbody>\n",
       "</table>\n",
       "</div>"
      ],
      "text/plain": [
       "  image_name  label\n",
       "0      0.jpg      0\n",
       "1      1.jpg      4\n",
       "2      2.jpg      5\n",
       "3      4.jpg      0\n",
       "4      7.jpg      4"
      ]
     },
     "execution_count": 3,
     "metadata": {},
     "output_type": "execute_result"
    }
   ],
   "source": [
    "# All the labels for the training data\n",
    "y_train = pd.read_csv(labels)\n",
    "y_train.head()"
   ]
  },
  {
   "cell_type": "code",
   "execution_count": 4,
   "metadata": {},
   "outputs": [
    {
     "data": {
      "text/html": [
       "<div>\n",
       "<style scoped>\n",
       "    .dataframe tbody tr th:only-of-type {\n",
       "        vertical-align: middle;\n",
       "    }\n",
       "\n",
       "    .dataframe tbody tr th {\n",
       "        vertical-align: top;\n",
       "    }\n",
       "\n",
       "    .dataframe thead th {\n",
       "        text-align: right;\n",
       "    }\n",
       "</style>\n",
       "<table border=\"1\" class=\"dataframe\">\n",
       "  <thead>\n",
       "    <tr style=\"text-align: right;\">\n",
       "      <th></th>\n",
       "      <th>image_name</th>\n",
       "    </tr>\n",
       "  </thead>\n",
       "  <tbody>\n",
       "    <tr>\n",
       "      <th>0</th>\n",
       "      <td>3.jpg</td>\n",
       "    </tr>\n",
       "    <tr>\n",
       "      <th>1</th>\n",
       "      <td>5.jpg</td>\n",
       "    </tr>\n",
       "    <tr>\n",
       "      <th>2</th>\n",
       "      <td>6.jpg</td>\n",
       "    </tr>\n",
       "    <tr>\n",
       "      <th>3</th>\n",
       "      <td>11.jpg</td>\n",
       "    </tr>\n",
       "    <tr>\n",
       "      <th>4</th>\n",
       "      <td>14.jpg</td>\n",
       "    </tr>\n",
       "  </tbody>\n",
       "</table>\n",
       "</div>"
      ],
      "text/plain": [
       "  image_name\n",
       "0      3.jpg\n",
       "1      5.jpg\n",
       "2      6.jpg\n",
       "3     11.jpg\n",
       "4     14.jpg"
      ]
     },
     "execution_count": 4,
     "metadata": {},
     "output_type": "execute_result"
    }
   ],
   "source": [
    "# This will help in preparing the images for test data\n",
    "y_test = pd.read_csv(test)\n",
    "y_test.head()"
   ]
  },
  {
   "cell_type": "code",
   "execution_count": 5,
   "metadata": {},
   "outputs": [],
   "source": [
    "#If you already have npy file load that\n",
    "#X_train = prepareImages(y_train,y_train.shape[0])\n",
    "X_train = np.load('traindata.npy')"
   ]
  },
  {
   "cell_type": "code",
   "execution_count": 6,
   "metadata": {},
   "outputs": [],
   "source": [
    "#X_train = X_train.reshape(X_train.shape[0],3,150,150)\n",
    "#X_train = X_train.astype('float32')\n",
    "X_train /=255"
   ]
  },
  {
   "cell_type": "code",
   "execution_count": 7,
   "metadata": {},
   "outputs": [
    {
     "data": {
      "text/plain": [
       "6"
      ]
     },
     "execution_count": 7,
     "metadata": {},
     "output_type": "execute_result"
    }
   ],
   "source": [
    "# one hot encode outputs'\n",
    "y_train_label = np_utils.to_categorical(y_train['label'])\n",
    "num_classes = y_train_label.shape[1]\n",
    "num_classes"
   ]
  },
  {
   "cell_type": "code",
   "execution_count": 8,
   "metadata": {},
   "outputs": [],
   "source": [
    "# fix random seed for reproducibility\n",
    "random_seed = 7\n",
    "np.random.seed(random_seed)"
   ]
  },
  {
   "cell_type": "code",
   "execution_count": 9,
   "metadata": {},
   "outputs": [
    {
     "name": "stdout",
     "output_type": "stream",
     "text": [
      "(14478, 150, 150, 3) (14478, 6) (2556, 150, 150, 3) (2556, 6)\n"
     ]
    }
   ],
   "source": [
    "# Split in Training set and Validation set\n",
    "x_train2, x_val, y_train2, y_val = train_test_split(X_train, y_train_label, test_size = 0.15, random_state=random_seed)\n",
    "print (x_train2.shape, y_train2.shape, x_val.shape, y_val.shape)"
   ]
  },
  {
   "cell_type": "code",
   "execution_count": 10,
   "metadata": {},
   "outputs": [],
   "source": [
    "## Data Augmentation\n",
    "# With data augmentation to prevent overfitting\n",
    "datagen = ImageDataGenerator(\n",
    "        rotation_range=10,  # randomly rotate images in the range (degrees, 0 to 180)\n",
    "        zoom_range = 0.1, # Randomly zoom image \n",
    "        width_shift_range=0.1,  # randomly shift images horizontally (fraction of total width)\n",
    "        height_shift_range=0.1,  # randomly shift images vertically (fraction of total height)\n",
    "        )  # randomly flip simages\n",
    "\n",
    "\n",
    "datagen.fit(X_train)"
   ]
  },
  {
   "cell_type": "markdown",
   "metadata": {},
   "source": [
    "## Label Check\n",
    "Check the distribution of labels in training and validation dataset"
   ]
  },
  {
   "cell_type": "code",
   "execution_count": 11,
   "metadata": {},
   "outputs": [],
   "source": [
    "#Here we have {'buildings' -> 0, 'forest' -> 1, 'glacier' -> 2, 'mountain' -> 3, 'sea' -> 4, 'street' -> 5 }\n",
    "def label_display(list_label):\n",
    "    real_label = ['buildings','forest','glacier','mountain','sea','street']\n",
    "    freq = [0,0,0,0,0,0]\n",
    "    for i in range(len(list_label)):\n",
    "        j = np.argmax(list_label[i],axis=0)\n",
    "        freq[j] = freq[j] + 1\n",
    "    plt.bar(real_label,freq)\n",
    "    #plt.xticks(real_label,frequency)\n",
    "    plt.ylabel('Number of example')\n",
    "    plt.title('Distribution of label in paased data')\n",
    "    plt.show()"
   ]
  },
  {
   "cell_type": "code",
   "execution_count": 12,
   "metadata": {},
   "outputs": [
    {
     "data": {
      "image/png": "[encoded data removed]",
      "text/plain": [
       "<Figure size 432x288 with 1 Axes>"
      ]
     },
     "metadata": {
      "needs_background": "light"
     },
     "output_type": "display_data"
    }
   ],
   "source": [
    "label_display(y_train2)"
   ]
  },
  {
   "cell_type": "code",
   "execution_count": 13,
   "metadata": {},
   "outputs": [
    {
     "data": {
      "image/png": "[encoded data removed]",
      "text/plain": [
       "<Figure size 432x288 with 1 Axes>"
      ]
     },
     "metadata": {
      "needs_background": "light"
     },
     "output_type": "display_data"
    }
   ],
   "source": [
    "label_display(y_val)"
   ]
  },
  {
   "cell_type": "markdown",
   "metadata": {},
   "source": [
    "## Model Formation"
   ]
  },
  {
   "cell_type": "code",
   "execution_count": 14,
   "metadata": {},
   "outputs": [],
   "source": [
    "conv_base = applications.VGG16(weights='vgg16_weights_tf_dim_ordering_tf_kernels_notop.h5',include_top=False,input_shape=(150,150,3))"
   ]
  },
  {
   "cell_type": "code",
   "execution_count": 15,
   "metadata": {},
   "outputs": [
    {
     "name": "stdout",
     "output_type": "stream",
     "text": [
      "_________________________________________________________________\n",
      "Layer (type)                 Output Shape              Param #   \n",
      "=================================================================\n",
      "input_1 (InputLayer)         (None, 150, 150, 3)       0         \n",
      "_________________________________________________________________\n",
      "block1_conv1 (Conv2D)        (None, 150, 150, 64)      1792      \n",
      "_________________________________________________________________\n",
      "block1_conv2 (Conv2D)        (None, 150, 150, 64)      36928     \n",
      "_________________________________________________________________\n",
      "block1_pool (MaxPooling2D)   (None, 75, 75, 64)        0         \n",
      "_________________________________________________________________\n",
      "block2_conv1 (Conv2D)        (None, 75, 75, 128)       73856     \n",
      "_________________________________________________________________\n",
      "block2_conv2 (Conv2D)        (None, 75, 75, 128)       147584    \n",
      "_________________________________________________________________\n",
      "block2_pool (MaxPooling2D)   (None, 37, 37, 128)       0         \n",
      "_________________________________________________________________\n",
      "block3_conv1 (Conv2D)        (None, 37, 37, 256)       295168    \n",
      "_________________________________________________________________\n",
      "block3_conv2 (Conv2D)        (None, 37, 37, 256)       590080    \n",
      "_________________________________________________________________\n",
      "block3_conv3 (Conv2D)        (None, 37, 37, 256)       590080    \n",
      "_________________________________________________________________\n",
      "block3_pool (MaxPooling2D)   (None, 18, 18, 256)       0         \n",
      "_________________________________________________________________\n",
      "block4_conv1 (Conv2D)        (None, 18, 18, 512)       1180160   \n",
      "_________________________________________________________________\n",
      "block4_conv2 (Conv2D)        (None, 18, 18, 512)       2359808   \n",
      "_________________________________________________________________\n",
      "block4_conv3 (Conv2D)        (None, 18, 18, 512)       2359808   \n",
      "_________________________________________________________________\n",
      "block4_pool (MaxPooling2D)   (None, 9, 9, 512)         0         \n",
      "_________________________________________________________________\n",
      "block5_conv1 (Conv2D)        (None, 9, 9, 512)         2359808   \n",
      "_________________________________________________________________\n",
      "block5_conv2 (Conv2D)        (None, 9, 9, 512)         2359808   \n",
      "_________________________________________________________________\n",
      "block5_conv3 (Conv2D)        (None, 9, 9, 512)         2359808   \n",
      "_________________________________________________________________\n",
      "block5_pool (MaxPooling2D)   (None, 4, 4, 512)         0         \n",
      "=================================================================\n",
      "Total params: 14,714,688\n",
      "Trainable params: 14,714,688\n",
      "Non-trainable params: 0\n",
      "_________________________________________________________________\n"
     ]
    }
   ],
   "source": [
    "conv_base.summary()"
   ]
  },
  {
   "cell_type": "code",
   "execution_count": 16,
   "metadata": {},
   "outputs": [
    {
     "name": "stdout",
     "output_type": "stream",
     "text": [
      "Number of trainable weights before freezing the conv base: 26\n",
      "Number of trainable weights after freezing the conv base: 0\n"
     ]
    }
   ],
   "source": [
    "# Freeze the layers which you don't want to train. Here I am freezing the first 5 layers.\n",
    "print('Number of trainable weights before freezing the conv base:', len(conv_base.trainable_weights))\n",
    "conv_base.trainable = False\n",
    "print('Number of trainable weights after freezing the conv base:', len(conv_base.trainable_weights))"
   ]
  },
  {
   "cell_type": "code",
   "execution_count": 17,
   "metadata": {},
   "outputs": [],
   "source": [
    "from keras import layers\n",
    "from keras import models"
   ]
  },
  {
   "cell_type": "code",
   "execution_count": 18,
   "metadata": {},
   "outputs": [],
   "source": [
    "model = models.Sequential()\n",
    "model.add(conv_base)\n",
    "model.add(layers.Flatten())\n",
    "model.add(layers.Dense(1024, activation='relu'))\n",
    "model.add(layers.Dropout(0.4))\n",
    "model.add(layers.Dense(1024,activation='relu'))\n",
    "model.add(layers.Dropout(0.4))\n",
    "model.add(layers.Dense(6, activation='sigmoid')) "
   ]
  },
  {
   "cell_type": "code",
   "execution_count": 19,
   "metadata": {},
   "outputs": [
    {
     "name": "stdout",
     "output_type": "stream",
     "text": [
      "_________________________________________________________________\n",
      "Layer (type)                 Output Shape              Param #   \n",
      "=================================================================\n",
      "vgg16 (Model)                (None, 4, 4, 512)         14714688  \n",
      "_________________________________________________________________\n",
      "flatten_1 (Flatten)          (None, 8192)              0         \n",
      "_________________________________________________________________\n",
      "dense_1 (Dense)              (None, 1024)              8389632   \n",
      "_________________________________________________________________\n",
      "dropout_1 (Dropout)          (None, 1024)              0         \n",
      "_________________________________________________________________\n",
      "dense_2 (Dense)              (None, 1024)              1049600   \n",
      "_________________________________________________________________\n",
      "dropout_2 (Dropout)          (None, 1024)              0         \n",
      "_________________________________________________________________\n",
      "dense_3 (Dense)              (None, 6)                 6150      \n",
      "=================================================================\n",
      "Total params: 24,160,070\n",
      "Trainable params: 9,445,382\n",
      "Non-trainable params: 14,714,688\n",
      "_________________________________________________________________\n"
     ]
    }
   ],
   "source": [
    "model.summary()"
   ]
  },
  {
   "cell_type": "code",
   "execution_count": 20,
   "metadata": {},
   "outputs": [],
   "source": [
    "from keras import optimizers\n",
    "\n",
    "model.compile(loss='binary_crossentropy', optimizer=optimizers.Adam(lr=2e-5), metrics=['acc'])"
   ]
  },
  {
   "cell_type": "code",
   "execution_count": 21,
   "metadata": {},
   "outputs": [],
   "source": [
    "early_stopping = EarlyStopping(monitor='val_loss', patience=5, verbose=1, mode='auto')\n",
    "    \n",
    "# descriptive weight file naming\n",
    "checkpointer = ModelCheckpoint(filepath=('vgg16_tf_params_false.h5'), \n",
    "                               verbose=1, save_best_only=True)\n",
    "\n",
    "callbacks = [early_stopping,checkpointer]"
   ]
  },
  {
   "cell_type": "code",
   "execution_count": 22,
   "metadata": {},
   "outputs": [],
   "source": [
    "batch_size = 8\n",
    "steps_per_epoch = x_train2.shape[0]//batch_size\n",
    "validation_steps = x_val.shape[0]//batch_size"
   ]
  },
  {
   "cell_type": "code",
   "execution_count": 23,
   "metadata": {},
   "outputs": [
    {
     "name": "stdout",
     "output_type": "stream",
     "text": [
      "Epoch 1/50\n",
      "1809/1809 [==============================] - 285s 158ms/step - loss: 0.2249 - acc: 0.9061 - val_loss: 0.1355 - val_acc: 0.9474\n",
      "\n",
      "Epoch 00001: val_loss improved from inf to 0.13551, saving model to vgg16_tf_params_false.h5\n",
      "Epoch 2/50\n",
      "1809/1809 [==============================] - 250s 138ms/step - loss: 0.1408 - acc: 0.9438 - val_loss: 0.1206 - val_acc: 0.9537\n",
      "\n",
      "Epoch 00002: val_loss improved from 0.13551 to 0.12064, saving model to vgg16_tf_params_false.h5\n",
      "Epoch 3/50\n",
      "1809/1809 [==============================] - 258s 143ms/step - loss: 0.1214 - acc: 0.9523 - val_loss: 0.1131 - val_acc: 0.9561\n",
      "\n",
      "Epoch 00003: val_loss improved from 0.12064 to 0.11309, saving model to vgg16_tf_params_false.h5\n",
      "Epoch 4/50\n",
      "1809/1809 [==============================] - 264s 146ms/step - loss: 0.1118 - acc: 0.9562 - val_loss: 0.1098 - val_acc: 0.9572\n",
      "\n",
      "Epoch 00004: val_loss improved from 0.11309 to 0.10983, saving model to vgg16_tf_params_false.h5\n",
      "Epoch 5/50\n",
      "1809/1809 [==============================] - 253s 140ms/step - loss: 0.1033 - acc: 0.9600 - val_loss: 0.1081 - val_acc: 0.9587\n",
      "\n",
      "Epoch 00005: val_loss improved from 0.10983 to 0.10805, saving model to vgg16_tf_params_false.h5\n",
      "Epoch 6/50\n",
      "1809/1809 [==============================] - 241s 133ms/step - loss: 0.0981 - acc: 0.9620 - val_loss: 0.1026 - val_acc: 0.9603\n",
      "\n",
      "Epoch 00006: val_loss improved from 0.10805 to 0.10264, saving model to vgg16_tf_params_false.h5\n",
      "Epoch 7/50\n",
      "1809/1809 [==============================] - 241s 133ms/step - loss: 0.0936 - acc: 0.9638 - val_loss: 0.1044 - val_acc: 0.9600\n",
      "\n",
      "Epoch 00007: val_loss did not improve from 0.10264\n",
      "Epoch 8/50\n",
      "1809/1809 [==============================] - 246s 136ms/step - loss: 0.0905 - acc: 0.9653 - val_loss: 0.1084 - val_acc: 0.9587\n",
      "\n",
      "Epoch 00008: val_loss did not improve from 0.10264\n",
      "Epoch 9/50\n",
      "1809/1809 [==============================] - 248s 137ms/step - loss: 0.0855 - acc: 0.9666 - val_loss: 0.1016 - val_acc: 0.9613\n",
      "\n",
      "Epoch 00009: val_loss improved from 0.10264 to 0.10164, saving model to vgg16_tf_params_false.h5\n",
      "Epoch 10/50\n",
      "1809/1809 [==============================] - 255s 141ms/step - loss: 0.0834 - acc: 0.9673 - val_loss: 0.1004 - val_acc: 0.9617\n",
      "\n",
      "Epoch 00010: val_loss improved from 0.10164 to 0.10037, saving model to vgg16_tf_params_false.h5\n",
      "Epoch 11/50\n",
      "1809/1809 [==============================] - 250s 138ms/step - loss: 0.0792 - acc: 0.9698 - val_loss: 0.1009 - val_acc: 0.9621\n",
      "\n",
      "Epoch 00011: val_loss did not improve from 0.10037\n",
      "Epoch 12/50\n",
      "1809/1809 [==============================] - 267s 147ms/step - loss: 0.0771 - acc: 0.9709 - val_loss: 0.0994 - val_acc: 0.9625\n",
      "\n",
      "Epoch 00012: val_loss improved from 0.10037 to 0.09941, saving model to vgg16_tf_params_false.h5\n",
      "Epoch 13/50\n",
      "1809/1809 [==============================] - 253s 140ms/step - loss: 0.0748 - acc: 0.9706 - val_loss: 0.0995 - val_acc: 0.9630\n",
      "\n",
      "Epoch 00013: val_loss did not improve from 0.09941\n",
      "Epoch 14/50\n",
      "1809/1809 [==============================] - 251s 139ms/step - loss: 0.0715 - acc: 0.9730 - val_loss: 0.1028 - val_acc: 0.9628\n",
      "\n",
      "Epoch 00014: val_loss did not improve from 0.09941\n",
      "Epoch 15/50\n",
      "1809/1809 [==============================] - 252s 139ms/step - loss: 0.0686 - acc: 0.9738 - val_loss: 0.1007 - val_acc: 0.9643\n",
      "\n",
      "Epoch 00015: val_loss did not improve from 0.09941\n",
      "Epoch 16/50\n",
      "1809/1809 [==============================] - 257s 142ms/step - loss: 0.0650 - acc: 0.9750 - val_loss: 0.0984 - val_acc: 0.9634\n",
      "\n",
      "Epoch 00016: val_loss improved from 0.09941 to 0.09835, saving model to vgg16_tf_params_false.h5\n",
      "Epoch 17/50\n",
      "1809/1809 [==============================] - 254s 140ms/step - loss: 0.0644 - acc: 0.9747 - val_loss: 0.1002 - val_acc: 0.9634\n",
      "\n",
      "Epoch 00017: val_loss did not improve from 0.09835\n",
      "Epoch 18/50\n",
      "1809/1809 [==============================] - 253s 140ms/step - loss: 0.0616 - acc: 0.9763 - val_loss: 0.1048 - val_acc: 0.9620\n",
      "\n",
      "Epoch 00018: val_loss did not improve from 0.09835\n",
      "Epoch 19/50\n",
      "1809/1809 [==============================] - 260s 144ms/step - loss: 0.0599 - acc: 0.9772 - val_loss: 0.1030 - val_acc: 0.9619\n",
      "\n",
      "Epoch 00019: val_loss did not improve from 0.09835\n",
      "Epoch 20/50\n",
      "1809/1809 [==============================] - 272s 150ms/step - loss: 0.0566 - acc: 0.9783 - val_loss: 0.0986 - val_acc: 0.9654\n",
      "\n",
      "Epoch 00020: val_loss did not improve from 0.09835\n",
      "Epoch 21/50\n",
      "1809/1809 [==============================] - 253s 140ms/step - loss: 0.0557 - acc: 0.9789 - val_loss: 0.1032 - val_acc: 0.9637\n",
      "\n",
      "Epoch 00021: val_loss did not improve from 0.09835\n",
      "Epoch 00021: early stopping\n"
     ]
    }
   ],
   "source": [
    "hist = model.fit_generator(datagen.flow(x_train2,y_train2,batch_size=batch_size),\n",
    "    validation_data = (x_val,y_val),            \n",
    "    validation_steps = validation_steps,\n",
    "    epochs=50,\n",
    "    verbose=1,\n",
    "    steps_per_epoch = steps_per_epoch,\n",
    "    callbacks=callbacks\n",
    ")"
   ]
  },
  {
   "cell_type": "code",
   "execution_count": 24,
   "metadata": {},
   "outputs": [
    {
     "data": {
      "image/png": "[encoded data removed]",
      "text/plain": [
       "<Figure size 432x288 with 1 Axes>"
      ]
     },
     "metadata": {
      "needs_background": "light"
     },
     "output_type": "display_data"
    },
    {
     "data": {
      "image/png": "[encoded data removed]",
      "text/plain": [
       "<Figure size 432x288 with 1 Axes>"
      ]
     },
     "metadata": {
      "needs_background": "light"
     },
     "output_type": "display_data"
    }
   ],
   "source": [
    "#get the details form the history object\n",
    "acc = hist.history['acc']\n",
    "val_acc = hist.history['val_acc']\n",
    "loss = hist.history['loss']\n",
    "val_loss = hist.history['val_loss']\n",
    "\n",
    "epochs = range(1, len(acc) + 1)\n",
    "\n",
    "#Train and validation accuracy\n",
    "plt.plot(epochs, acc, 'b', label='Training accurarcy')\n",
    "plt.plot(epochs, val_acc, 'r', label='Validation accurarcy')\n",
    "plt.title('Training and Validation accurarcy')\n",
    "plt.legend()\n",
    "\n",
    "plt.figure()\n",
    "#Train and validation loss\n",
    "plt.plot(epochs, loss, 'b', label='Training loss')\n",
    "plt.plot(epochs, val_loss, 'r', label='Validation loss')\n",
    "plt.title('Training and Validation loss')\n",
    "plt.legend()\n",
    "\n",
    "plt.show()"
   ]
  },
  {
   "cell_type": "markdown",
   "metadata": {},
   "source": [
    "## Predictions\n",
    "Test set is save in test npy file with 150,150,3 dimension"
   ]
  },
  {
   "cell_type": "code",
   "execution_count": 25,
   "metadata": {},
   "outputs": [],
   "source": [
    "from keras.preprocessing import image\n",
    "from keras.applications.imagenet_utils import preprocess_input\n",
    "def prepareTest(data, m):\n",
    "    print(\"Preparing images\")\n",
    "    X_train = np.zeros((m, 150, 150, 3))\n",
    "    count = 0\n",
    "    \n",
    "    for fig in data['image_name']:\n",
    "        #load images into images of size 150*150(original size)\n",
    "        #src = cv2.imread(\"train/\"+fig,)\n",
    "        #img = cv2.cvtColor(src,cv2.COLOR_BGR2RGB)\n",
    "        img = image.load_img(\"original_dataset/\"+fig, target_size=(150, 150, 3))\n",
    "        x = image.img_to_array(img)\n",
    "        x = preprocess_input(x)\n",
    "        X_train[count] = x\n",
    "        count += 1\n",
    "        if(count%1000==0):\n",
    "            print('images done :',count)\n",
    "    np.save('test.npy',X_train)\n",
    "    return X_train"
   ]
  },
  {
   "cell_type": "code",
   "execution_count": 28,
   "metadata": {},
   "outputs": [],
   "source": [
    "#x_test = prepareTest(y_test,y_test.shape[0])\n",
    "x_test = np.load('test.npy')\n",
    "x_test /= 255"
   ]
  },
  {
   "cell_type": "code",
   "execution_count": 29,
   "metadata": {},
   "outputs": [],
   "source": [
    "result = np.zeros((x_test.shape[0],6))\n",
    "result = model.predict(x_test,batch_size=8)\n",
    "result = np.argmax(result,axis=1)\n",
    "results = pd.Series(result,name='label')"
   ]
  },
  {
   "cell_type": "code",
   "execution_count": 30,
   "metadata": {},
   "outputs": [],
   "source": [
    "y_test['label'] = results\n",
    "y_test.to_csv('vgg_16_tf_param_false.csv',index=False)"
   ]
  },
  {
   "cell_type": "code",
   "execution_count": null,
   "metadata": {},
   "outputs": [],
   "source": []
  }
 ],
 "metadata": {
  "kernelspec": {
   "display_name": "Python 3",
   "language": "python",
   "name": "python3"
  },
  "language_info": {
   "codemirror_mode": {
    "name": "ipython",
    "version": 3
   },
   "file_extension": ".py",
   "mimetype": "text/x-python",
   "name": "python",
   "nbconvert_exporter": "python",
   "pygments_lexer": "ipython3",
   "version": "3.6.6"
  }
 },
 "nbformat": 4,
 "nbformat_minor": 2
}
